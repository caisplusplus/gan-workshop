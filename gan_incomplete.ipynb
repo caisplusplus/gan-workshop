{
 "cells": [
  {
   "cell_type": "code",
   "execution_count": 1,
   "metadata": {
    "collapsed": false
   },
   "outputs": [
    {
     "name": "stderr",
     "output_type": "stream",
     "text": [
      "Using TensorFlow backend.\n"
     ]
    }
   ],
   "source": [
    "# All the necesssary imports.\n",
    "from keras.models import Sequential\n",
    "from keras.layers import Dense\n",
    "from keras.layers.core import Activation, Dropout\n",
    "from keras.layers import LeakyReLU\n",
    "from keras import initializers\n",
    "from keras.datasets import mnist\n",
    "from keras.optimizers import Adam, RMSprop, SGD\n",
    "import numpy as np\n",
    "import matplotlib.pyplot as plt"
   ]
  },
  {
   "cell_type": "code",
   "execution_count": 2,
   "metadata": {
    "collapsed": true
   },
   "outputs": [],
   "source": [
    "# Load in the data.\n",
    "(x_train, y_train), (x_test, y_test) = mnist.load_data()\n",
    "# Normalize to [-1, 1] (easier to work with)\n",
    "x_train = (x_train.astype(np.float32) - 127.5) / 127.5\n",
    "\n",
    "# For the sake of time don't work with the entire dataset.\n",
    "x_train = x_train[:10000]\n",
    "y_train = x_train[:10000]\n",
    "\n",
    "# Flatten the data.\n",
    "x_train = x_train.reshape((-1, 784))\n",
    "x_test = x_test.reshape((-1, 784))"
   ]
  },
  {
   "cell_type": "code",
   "execution_count": 4,
   "metadata": {
    "collapsed": false
   },
   "outputs": [
    {
     "data": {
      "image/png": "[encoded data removed]",
      "text/plain": [
       "<matplotlib.figure.Figure at 0x11b541a90>"
      ]
     },
     "metadata": {},
     "output_type": "display_data"
    }
   ],
   "source": [
    "# Plot out a sample image (reshaped to 28 x 28)\n",
    "plt.imshow(x_train[0].reshape(28, 28), cmap=plt.get_cmap('gray'))\n",
    "plt.show()"
   ]
  },
  {
   "cell_type": "code",
   "execution_count": null,
   "metadata": {
    "collapsed": true
   },
   "outputs": [],
   "source": [
    "# How many noise dimensions our generator should take in\n",
    "NOISE_DIM = 100 # Feel free to tweak this and see what changes\n",
    "\n",
    "# Define the generator.\n",
    "# The generator should have the following layers.\n",
    "# Fully connected from # noise dimensions to 256\n",
    "# LeakyReLU (alpha = 0.2) (what is leaky relu? https://cdn-images-1.medium.com/max/1600/1*A_Bzn0CjUgOXtPCJKnKLqA.jpeg)\n",
    "# Fully connected from 256 to 512\n",
    "# LeakyReLU (alpha = 0.2)\n",
    "# Fully connected from 512 to 1024\n",
    "# LeakyReLU (alpha = 0.2)\n",
    "# Fully connected from 1024 to 784 (28*28)\n",
    "# tanh (To normalize our output from -1 to 1)\n",
    "\n",
    "def generator():\n",
    "    ###################################\n",
    "    #TODO: Implement\n",
    "    model = Sequential()\n",
    "    \n",
    "    # How to add leaky relu\n",
    "    #model.add(LeakyReLU())\n",
    "    # (We'll give you this first layer. Keep the initializer as is -- it works better than the default)\n",
    "    # (You can also keep initializers default for the rest of the layers)\n",
    "    model.add(Dense(256, input_dim=NOISE_DIM, kernel_initializer=initializers.RandomNormal(stddev=0.02)))\n",
    "    \n",
    "    # Add the rest of the layers\n",
    "    \n",
    "    return model\n",
    "    ###################################"
   ]
  },
  {
   "cell_type": "code",
   "execution_count": null,
   "metadata": {
    "collapsed": true
   },
   "outputs": [],
   "source": [
    "# Define the discriminator here.\n",
    "# Should have the following layers\n",
    "# Fully connected from 784 (28*28) to 1024\n",
    "# LeakyReLU (alpha = 0.2)\n",
    "# Dropout with p = 0.3\n",
    "# Fully connected from 1024 to 512\n",
    "# LeakyReLU (alpha = 0.2)\n",
    "# Dropout with p = 0.3\n",
    "# Fully connected from 512 to 256\n",
    "# LeakyReLU (alpha = 0.2)\n",
    "# Dropout with p = 0.3\n",
    "# Fully connected from 256 to 1\n",
    "# sigmoid (to get our probability)\n",
    "\n",
    "def discriminator():\n",
    "    # (We'll give you this first layer. Keep the initializer as is -- it works better than the default)\n",
    "    model.add(Dense(1024, input_dim=784, kernel_initializer=initializers.RandomNormal(stddev=0.02)))\n",
    "    \n",
    "    # Add the rest of the layers\n",
    "    \n",
    "    return model\n",
    "    ###################################"
   ]
  },
  {
   "cell_type": "code",
   "execution_count": null,
   "metadata": {
    "collapsed": true
   },
   "outputs": [],
   "source": [
    "# Feed the generated image into the discriminator. \n",
    "# We’ll use this to train our generator end-to-end later on, \n",
    "    # while leaving the discriminator weights untouched \n",
    "# Hint: we can add existing Sequential() models to new models, just like we can with any other layer.\n",
    "    # The parameters are then \"passed by reference,\" so that they use the same internal weights.\n",
    "\n",
    "# Remember that we are not updating our discriminator in this step. \n",
    "    # (We'll train the discriminator separately.)\n",
    "# Please refer to \n",
    "    # https://keras.io/getting-started/faq/#how-can-i-freeze-keras-layers\n",
    "    # on how to \"freeze\" or set layers to be untrainable in keras.\n",
    "# We can call this \"freeze\" operation on an entire model.\n",
    "\n",
    "def combine(generator, discriminator):\n",
    "    ###################################\n",
    "    # TODO: Implement\n",
    "    model = Sequential()\n",
    "    return model\n",
    "    ###################################"
   ]
  },
  {
   "cell_type": "code",
   "execution_count": null,
   "metadata": {
    "collapsed": true
   },
   "outputs": [],
   "source": [
    "# Compile the discriminator, generator, and full GAN. \n",
    "\n",
    "# Use this optimizer for each of the models\n",
    "opt = Adam(lr=.0002, beta_1=0.5)\n",
    "\n",
    "#############################################\n",
    "# TODO: Compile generator and discriminator\n",
    "\n",
    "# Discriminator\n",
    "# d = None\n",
    "\n",
    "# Full gan\n",
    "# gd = None\n",
    "#############################################"
   ]
  },
  {
   "cell_type": "code",
   "execution_count": null,
   "metadata": {
    "collapsed": true
   },
   "outputs": [],
   "source": [
    "# Helper function to display sample from the network\n",
    "def disp_sample(g):\n",
    "    noise = np.random.uniform(-1, 1, size=(batch_size, NOISE_DIM))\n",
    "    generated_images = g.predict(noise, verbose=0)\n",
    "    show_im = generated_images[0]\n",
    "    show_im = (show_im + 1) / 2.0\n",
    "    show_im = show_im.reshape(28, 28)\n",
    "    plt.imshow(show_im, cmap='gray')\n",
    "    plt.show()"
   ]
  },
  {
   "cell_type": "code",
   "execution_count": null,
   "metadata": {
    "collapsed": true
   },
   "outputs": [],
   "source": [
    "# Keep this. \n",
    "batch_size = 128\n",
    "\n",
    "for epoch in range(100):\n",
    "    print('Epoch #%d' % epoch)\n",
    "    \n",
    "    # Generate an image and display it.\n",
    "    disp_sample(g)\n",
    "    \n",
    "    num_batches = int(x_train.shape[0] / batch_size)\n",
    "    all_g_loss = []\n",
    "    all_d_loss = []\n",
    "    for i in range(num_batches):\n",
    "        #######################################################\n",
    "        #TODO: Complete a training iteration\n",
    "        # Generate noise.\n",
    "        noise = np.random.uniform(-1, 1, size=(batch_size, NOISE_DIM))\n",
    "        \n",
    "        # Generate images from the noise using the generator.\n",
    "            # See 'predict()': https://keras.io/models/sequential/\n",
    "        #generated_images = None\n",
    "        \n",
    "        # Grab the image batch for this iteration. \n",
    "        real_images = x_train[i * batch_size: (i+1) * batch_size]\n",
    "        \n",
    "        ### Train the discriminator using the generated images and the real images ###\n",
    "        \n",
    "        # Contains the real and fake images. (Concatenate!)\n",
    "            # https://docs.scipy.org/doc/numpy-1.13.0/reference/generated/numpy.concatenate.html\n",
    "        # X = None\n",
    "        \n",
    "        # Labels if the sample is real (1) or not real (0). \n",
    "            # Numpy 'ones' function: https://docs.scipy.org/doc/numpy-1.13.0/reference/generated/numpy.ones.html\n",
    "            # 'zeros': https://docs.scipy.org/doc/numpy-1.13.0/reference/generated/numpy.zeros.html\n",
    "        # y = None\n",
    "        \n",
    "        # Remember that for this line, the discriminator has to have d.trainable = True!\n",
    "            # Update d.trainable as necessary\n",
    "        # d_loss = d.train_on_batch(X, y)\n",
    "        # Now, set d.trainable to False again to get ready for the end-to-end generator training\n",
    "            # (We want to hold the discriminator constant while we're training the generator. See below.)\n",
    "        \n",
    "        # Generate more noise to feed into the full gan network to train the generative portion. \n",
    "        # noise = None\n",
    "        \n",
    "        # Get the g_loss (fill in the ... part between the parantheses)\n",
    "            # Hint: we want the final output to be 1 (indicating that the discriminator was fooled),\n",
    "            # So the labels should be all 1's. \n",
    "            # Then, since the discriminator weights are fixed,\n",
    "            # the generator weights will have to adjust so that the final outputs will be closer to 1 \n",
    "            # (i.e. are are producing more realistic images).\n",
    "        # g_loss = dg.train_on_batch(...)\n",
    "        \n",
    "        # For getting the averages of each epoch\n",
    "        all_d_loss.append(d_loss)\n",
    "        all_g_loss.append(g_loss)\n",
    "        \n",
    "        #######################################################\n",
    "    print('%i D: %.4f, G: %.4f' % (epoch, np.mean(all_d_loss), np.mean(all_g_loss)))\n",
    "\n",
    "#########################################################################################\n",
    "# Why is my generative loss oscillating???   \n",
    "# Don't worry this is normal as the generator is oscillating between possible solutions\n",
    "#########################################################################################\n",
    "        "
   ]
  }
 ],
 "metadata": {
  "anaconda-cloud": {},
  "kernelspec": {
   "display_name": "Python [default]",
   "language": "python",
   "name": "python3"
  },
  "language_info": {
   "codemirror_mode": {
    "name": "ipython",
    "version": 3
   },
   "file_extension": ".py",
   "mimetype": "text/x-python",
   "name": "python",
   "nbconvert_exporter": "python",
   "pygments_lexer": "ipython3",
   "version": "3.4.5"
  }
 },
 "nbformat": 4,
 "nbformat_minor": 2
}
